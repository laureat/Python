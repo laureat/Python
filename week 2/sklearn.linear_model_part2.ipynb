{
 "cells": [
  {
   "cell_type": "markdown",
   "metadata": {},
   "source": [
    "# Sklearn"
   ]
  },
  {
   "cell_type": "markdown",
   "metadata": {},
   "source": [
    "## sklearn.linear_model"
   ]
  },
  {
   "cell_type": "code",
   "execution_count": 1,
   "metadata": {},
   "outputs": [
    {
     "name": "stderr",
     "output_type": "stream",
     "text": [
      "/home/ayan/anaconda3/lib/python3.7/site-packages/sklearn/cross_validation.py:41: DeprecationWarning: This module was deprecated in version 0.18 in favor of the model_selection module into which all the refactored classes and functions are moved. Also note that the interface of the new CV iterators are different from that of this module. This module will be removed in 0.20.\n",
      "  \"This module will be removed in 0.20.\", DeprecationWarning)\n"
     ]
    }
   ],
   "source": [
    "from matplotlib.colors import ListedColormap\n",
    "from sklearn import cross_validation, datasets, linear_model, metrics\n",
    "\n",
    "import numpy as np"
   ]
  },
  {
   "cell_type": "code",
   "execution_count": 2,
   "metadata": {},
   "outputs": [
    {
     "name": "stdout",
     "output_type": "stream",
     "text": [
      "Populating the interactive namespace from numpy and matplotlib\n"
     ]
    }
   ],
   "source": [
    "%pylab inline"
   ]
  },
  {
   "cell_type": "markdown",
   "metadata": {},
   "source": [
    "### Линейная регрессия"
   ]
  },
  {
   "cell_type": "markdown",
   "metadata": {},
   "source": [
    "#### Генерация данных"
   ]
  },
  {
   "cell_type": "code",
   "execution_count": 3,
   "metadata": {},
   "outputs": [],
   "source": [
    "data, target, coef = datasets.make_regression(n_features = 2, n_informative = 1, n_targets = 1, \n",
    "                                              noise = 5., coef = True, random_state = 2)\n",
    "# две фичи, одна из них информативная, одна избыточная\n",
    "# также добавили шум(noise)\n",
    "# coef=True значит что метод возвращает не только данные и метки, но и также уравнение(параметры, y=a+b*x1+...) "
   ]
  },
  {
   "cell_type": "code",
   "execution_count": 14,
   "metadata": {
    "scrolled": true
   },
   "outputs": [
    {
     "data": {
      "text/plain": [
       "array([[-1.13431848e+00, -7.07420888e-01],\n",
       "       [-2.76179492e-01, -5.16883894e-01],\n",
       "       [-4.62005348e-01,  3.50888494e-01],\n",
       "       [ 3.65053516e-01,  7.74082033e-01],\n",
       "       [-1.02141473e+00,  4.32395701e-01],\n",
       "       [-3.13508197e-01,  7.71011738e-01],\n",
       "       [-4.54227855e-01,  5.14370717e-01],\n",
       "       [-4.16757847e-01, -5.62668272e-02],\n",
       "       [-1.25542722e+00,  9.38163671e-01],\n",
       "       [ 1.00036589e+00, -3.81092518e-01],\n",
       "       [-1.73795950e+00,  1.04082395e+00],\n",
       "       [-1.54667461e+00, -2.08265194e+00],\n",
       "       [ 2.04207979e-01,  1.40669624e+00],\n",
       "       [-2.13619610e+00,  1.64027081e+00],\n",
       "       [ 4.33496330e-01,  1.27837923e+00],\n",
       "       [-4.68346260e-01, -1.25472031e+00],\n",
       "       [-2.69056960e-01,  2.23136679e+00],\n",
       "       [-3.25049628e-01, -5.60234506e-01],\n",
       "       [-9.02246068e-01, -5.90972275e-01],\n",
       "       [-1.41881055e+00, -2.51774118e-01],\n",
       "       [ 6.95119605e-01, -2.03346655e+00],\n",
       "       [-1.09873895e+00,  1.58448706e+00],\n",
       "       [-6.53250268e-01,  8.42456282e-01],\n",
       "       [ 3.27974540e+00,  9.70861320e-01],\n",
       "       [ 6.96197980e-01,  6.97416272e-01],\n",
       "       [-3.95702397e-02,  3.26003433e-01],\n",
       "       [-1.05795222e+00, -9.09007615e-01],\n",
       "       [-3.75669423e-01, -7.44707629e-02],\n",
       "       [-1.22142917e+00,  1.80447664e+00],\n",
       "       [ 2.55043824e+00, -1.47317325e+00],\n",
       "       [ 1.53176032e+00, -1.98584577e+00],\n",
       "       [ 1.24823646e-01,  7.56502143e-01],\n",
       "       [ 1.11788673e+00, -2.74242089e-01],\n",
       "       [ 1.83533272e+00,  4.40689872e-01],\n",
       "       [-1.83256574e-01,  1.01985473e+00],\n",
       "       [-1.86809065e+00,  1.73118467e+00],\n",
       "       [ 1.46767801e+00, -3.35677339e-01],\n",
       "       [-1.06079904e+00,  5.91666521e-01],\n",
       "       [-3.64479092e-01, -8.75979478e-01],\n",
       "       [ 6.10144086e-01,  4.23496900e-01],\n",
       "       [-7.19253841e-01, -5.83414595e-01],\n",
       "       [-4.03892269e-01, -1.38451867e+00],\n",
       "       [-1.91304965e-02,  1.17500122e+00],\n",
       "       [ 6.01515814e-01,  3.65949071e-03],\n",
       "       [ 1.17353150e+00, -2.34360319e+00],\n",
       "       [ 2.56570452e-01, -9.88779049e-01],\n",
       "       [-2.04032305e+00,  4.62555231e-02],\n",
       "       [-1.48246548e+00,  8.46311892e-01],\n",
       "       [ 5.01857207e-01, -8.44213704e-01],\n",
       "       [ 3.96520159e-01, -3.14617436e-01],\n",
       "       [ 3.70444537e-01,  1.35963386e+00],\n",
       "       [-6.34679305e-01,  5.08396243e-01],\n",
       "       [ 5.24296430e-01,  7.35279576e-01],\n",
       "       [-1.42121723e+00, -1.53495196e-01],\n",
       "       [-2.43476758e+00,  1.12726505e-01],\n",
       "       [ 9.76147160e-06,  5.42352572e-01],\n",
       "       [ 1.79259285e+00, -4.29013319e-01],\n",
       "       [ 6.11340780e-01,  4.79705919e-02],\n",
       "       [-8.78107893e-01, -1.56434170e-01],\n",
       "       [-4.19316482e-01, -1.32328898e-01],\n",
       "       [ 2.41439629e-01,  4.97425649e-01],\n",
       "       [ 7.51964849e-01, -9.93760983e-01],\n",
       "       [ 1.33556617e+00,  3.02629336e-01],\n",
       "       [ 1.74181219e+00, -4.47500876e-01],\n",
       "       [ 8.29458431e-01,  6.30621967e-01],\n",
       "       [-6.37655012e-01, -1.18761229e+00],\n",
       "       [-3.81516482e-01,  6.64890091e-02],\n",
       "       [ 4.15393930e-02, -1.11792545e+00],\n",
       "       [-3.23580070e-01,  4.23824708e-01],\n",
       "       [-1.89469265e-01, -7.72186654e-02],\n",
       "       [ 8.24703005e-01,  1.24821292e+00],\n",
       "       [-1.14421297e-01, -4.98174194e-01],\n",
       "       [ 1.16152149e+00,  3.86078048e-01],\n",
       "       [ 1.80409807e-01,  5.53164274e-01],\n",
       "       [ 3.80471970e-01, -2.17135269e-01],\n",
       "       [-1.45336435e+00, -3.38017777e-01],\n",
       "       [-2.28247558e-01, -2.06961226e+00],\n",
       "       [ 2.16116006e-01, -1.85861239e+00],\n",
       "       [ 4.10869262e+00,  8.21120877e-01],\n",
       "       [-1.79343559e+00, -8.41747366e-01],\n",
       "       [-2.65944946e+00, -9.14526229e-02],\n",
       "       [ 5.39058321e-01, -5.96159700e-01],\n",
       "       [ 1.03302907e+00, -3.29002435e-01],\n",
       "       [ 5.02881417e-01, -1.24528809e+00],\n",
       "       [ 1.10914328e+00, -1.76491773e+00],\n",
       "       [-3.38821966e-01, -2.36184031e-01],\n",
       "       [ 1.36723542e+00,  1.21788563e+00],\n",
       "       [-1.13313327e+00,  4.33092555e-01],\n",
       "       [ 5.51454045e-01,  2.29220801e+00],\n",
       "       [-5.93755583e-01,  1.14950057e+00],\n",
       "       [ 7.99179995e-01,  1.26261366e+00],\n",
       "       [-6.98589950e-01, -9.28891925e-01],\n",
       "       [ 3.81866234e-01,  5.66275441e-01],\n",
       "       [ 9.60781945e-01,  7.58370347e-01],\n",
       "       [-3.04086439e-01,  2.58529487e+00],\n",
       "       [-6.77675577e-01, -1.43943903e+00],\n",
       "       [-7.47870949e-01,  9.02525097e-03],\n",
       "       [-8.29135289e-01,  8.77102184e-02],\n",
       "       [ 3.59133332e-01,  6.22220414e-01],\n",
       "       [ 4.97940148e-01,  1.26504175e-01]])"
      ]
     },
     "execution_count": 14,
     "metadata": {},
     "output_type": "execute_result"
    }
   ],
   "source": [
    "data\n",
    "# x1 и x2, а значения y берутся из target"
   ]
  },
  {
   "cell_type": "code",
   "execution_count": 7,
   "metadata": {},
   "outputs": [
    {
     "data": {
      "text/plain": [
       "<matplotlib.collections.PathCollection at 0x7f9baf8235c0>"
      ]
     },
     "execution_count": 7,
     "metadata": {},
     "output_type": "execute_result"
    },
    {
     "data": {
      "image/png": "[encoded data removed]",
      "text/plain": [
       "<Figure size 432x288 with 1 Axes>"
      ]
     },
     "metadata": {
      "needs_background": "light"
     },
     "output_type": "display_data"
    }
   ],
   "source": [
    "pylab.scatter(list(map(lambda x:x[0], data)), target, color = 'r')\n",
    "pylab.scatter(list(map(lambda x:x[1], data)), target, color = 'b')"
   ]
  },
  {
   "cell_type": "code",
   "execution_count": 8,
   "metadata": {},
   "outputs": [],
   "source": [
    "train_data, test_data, train_labels, test_labels = cross_validation.train_test_split(data, target,  \n",
    "                                                                                     test_size = 0.3)"
   ]
  },
  {
   "cell_type": "markdown",
   "metadata": {},
   "source": [
    "#### LinearRegression"
   ]
  },
  {
   "cell_type": "code",
   "execution_count": 12,
   "metadata": {},
   "outputs": [],
   "source": [
    "linear_regressor = linear_model.LinearRegression()\n",
    "linear_regressor.fit(train_data, train_labels)\n",
    "predictions = linear_regressor.predict(test_data)\n",
    "# опять же, с помощью fit обучаем модель на обуч выборке"
   ]
  },
  {
   "cell_type": "code",
   "execution_count": 13,
   "metadata": {},
   "outputs": [
    {
     "name": "stdout",
     "output_type": "stream",
     "text": [
      "[  17.64282734  -45.27502383   11.74073026   19.66406455  -63.4056294\n",
      "  -17.27897399  -37.31870104   25.24428409   24.82763821  -61.47026695\n",
      "    5.86887774   25.7124082   -71.3715844   -21.48288019   -1.42235396\n",
      "   20.87713077  -32.92158843  -10.06708677  160.09441244  -44.51417742\n",
      "   27.83791274  -40.84204295  126.64909941  -12.0017312    23.87701013\n",
      "  -16.79027112 -105.77758163   24.47584129   -4.38652971   44.66274342]\n"
     ]
    }
   ],
   "source": [
    "print (test_labels)\n",
    "#  это ответы на тестовой выборке (метки)"
   ]
  },
  {
   "cell_type": "code",
   "execution_count": 15,
   "metadata": {},
   "outputs": [
    {
     "name": "stdout",
     "output_type": "stream",
     "text": [
      "[  21.67849432  -48.12132673   14.32269116   26.49325177  -60.65020346\n",
      "  -13.56160538  -35.2959284    14.55760946   30.69399007  -56.85611509\n",
      "    4.6432581    27.85727832  -71.21752849  -24.5499377    -0.67765864\n",
      "   13.55333808  -34.1735664   -10.16396037  157.2081937   -54.96694547\n",
      "   23.07348721  -46.42455414  125.53751777   -7.032511     31.66465524\n",
      "  -14.89868836 -102.34842901   22.94806346   -5.08916063   50.7935304 ]\n"
     ]
    }
   ],
   "source": [
    "print (predictions)\n",
    "# то что мы предсказали по тестовой выборке"
   ]
  },
  {
   "cell_type": "code",
   "execution_count": 16,
   "metadata": {},
   "outputs": [
    {
     "data": {
      "text/plain": [
       "3.773370261891405"
      ]
     },
     "execution_count": 16,
     "metadata": {},
     "output_type": "execute_result"
    }
   ],
   "source": [
    "metrics.mean_absolute_error(test_labels, predictions)\n",
    "# метрика MAE менее чувствительна к выбросам"
   ]
  },
  {
   "cell_type": "code",
   "execution_count": 18,
   "metadata": {
    "scrolled": true
   },
   "outputs": [
    {
     "name": "stdout",
     "output_type": "stream",
     "text": [
      "mean: -4.070071498779695, std: 1.0737104492890204\n"
     ]
    },
    {
     "name": "stderr",
     "output_type": "stream",
     "text": [
      "/home/ayan/anaconda3/lib/python3.7/site-packages/sklearn/metrics/scorer.py:100: DeprecationWarning: Scoring method mean_absolute_error was renamed to neg_mean_absolute_error in version 0.18 and will be removed in 0.20.\n",
      "  sample_weight=sample_weight)\n",
      "/home/ayan/anaconda3/lib/python3.7/site-packages/sklearn/metrics/scorer.py:100: DeprecationWarning: Scoring method mean_absolute_error was renamed to neg_mean_absolute_error in version 0.18 and will be removed in 0.20.\n",
      "  sample_weight=sample_weight)\n",
      "/home/ayan/anaconda3/lib/python3.7/site-packages/sklearn/metrics/scorer.py:100: DeprecationWarning: Scoring method mean_absolute_error was renamed to neg_mean_absolute_error in version 0.18 and will be removed in 0.20.\n",
      "  sample_weight=sample_weight)\n",
      "/home/ayan/anaconda3/lib/python3.7/site-packages/sklearn/metrics/scorer.py:100: DeprecationWarning: Scoring method mean_absolute_error was renamed to neg_mean_absolute_error in version 0.18 and will be removed in 0.20.\n",
      "  sample_weight=sample_weight)\n",
      "/home/ayan/anaconda3/lib/python3.7/site-packages/sklearn/metrics/scorer.py:100: DeprecationWarning: Scoring method mean_absolute_error was renamed to neg_mean_absolute_error in version 0.18 and will be removed in 0.20.\n",
      "  sample_weight=sample_weight)\n",
      "/home/ayan/anaconda3/lib/python3.7/site-packages/sklearn/metrics/scorer.py:100: DeprecationWarning: Scoring method mean_absolute_error was renamed to neg_mean_absolute_error in version 0.18 and will be removed in 0.20.\n",
      "  sample_weight=sample_weight)\n",
      "/home/ayan/anaconda3/lib/python3.7/site-packages/sklearn/metrics/scorer.py:100: DeprecationWarning: Scoring method mean_absolute_error was renamed to neg_mean_absolute_error in version 0.18 and will be removed in 0.20.\n",
      "  sample_weight=sample_weight)\n",
      "/home/ayan/anaconda3/lib/python3.7/site-packages/sklearn/metrics/scorer.py:100: DeprecationWarning: Scoring method mean_absolute_error was renamed to neg_mean_absolute_error in version 0.18 and will be removed in 0.20.\n",
      "  sample_weight=sample_weight)\n",
      "/home/ayan/anaconda3/lib/python3.7/site-packages/sklearn/metrics/scorer.py:100: DeprecationWarning: Scoring method mean_absolute_error was renamed to neg_mean_absolute_error in version 0.18 and will be removed in 0.20.\n",
      "  sample_weight=sample_weight)\n",
      "/home/ayan/anaconda3/lib/python3.7/site-packages/sklearn/metrics/scorer.py:100: DeprecationWarning: Scoring method mean_absolute_error was renamed to neg_mean_absolute_error in version 0.18 and will be removed in 0.20.\n",
      "  sample_weight=sample_weight)\n"
     ]
    }
   ],
   "source": [
    "linear_scoring = cross_validation.cross_val_score(linear_regressor, data, target, scoring = 'mean_absolute_error', \n",
    "                                                  cv = 10)\n",
    "print ('mean: {}, std: {}'.format(linear_scoring.mean(), linear_scoring.std()))\n",
    "\n",
    "# linear_regressor parameter is the linear_model.LinearRegression() specified above\n",
    "# usual 10-k fold cross-validation is used"
   ]
  },
  {
   "cell_type": "code",
   "execution_count": 19,
   "metadata": {},
   "outputs": [],
   "source": [
    "scorer = metrics.make_scorer(metrics.mean_absolute_error, greater_is_better = True)\n",
    "# избавляемся от искусственного домножения на -1"
   ]
  },
  {
   "cell_type": "code",
   "execution_count": 21,
   "metadata": {},
   "outputs": [
    {
     "name": "stdout",
     "output_type": "stream",
     "text": [
      "mean: 4.070071498779695, std: 1.0737104492890204\n"
     ]
    }
   ],
   "source": [
    "linear_scoring = cross_validation.cross_val_score(linear_regressor, data, target, scoring=scorer, \n",
    "                                                  cv = 10)\n",
    "print ('mean: {}, std: {}'.format(linear_scoring.mean(), linear_scoring.std()))"
   ]
  },
  {
   "cell_type": "code",
   "execution_count": 24,
   "metadata": {},
   "outputs": [
    {
     "data": {
      "text/plain": [
       "array([38.07925837,  0.        ])"
      ]
     },
     "execution_count": 24,
     "metadata": {},
     "output_type": "execute_result"
    }
   ],
   "source": [
    "coef\n",
    "# информативный и избыточный признак\n",
    "# эти коэф-ы коэф-ы из dataset"
   ]
  },
  {
   "cell_type": "code",
   "execution_count": 25,
   "metadata": {},
   "outputs": [
    {
     "data": {
      "text/plain": [
       "array([38.28827449,  0.45600817])"
      ]
     },
     "execution_count": 25,
     "metadata": {},
     "output_type": "execute_result"
    }
   ],
   "source": [
    "linear_regressor.coef_\n",
    "# эти - то, что у нас полуичлось"
   ]
  },
  {
   "cell_type": "code",
   "execution_count": 26,
   "metadata": {},
   "outputs": [
    {
     "data": {
      "text/plain": [
       "-0.48099509694111764"
      ]
     },
     "execution_count": 26,
     "metadata": {},
     "output_type": "execute_result"
    }
   ],
   "source": [
    "# в лекции не указано, что в уравнении обученной модели также участвует свободный член\n",
    "linear_regressor.intercept_"
   ]
  },
  {
   "cell_type": "code",
   "execution_count": 28,
   "metadata": {},
   "outputs": [
    {
     "name": "stdout",
     "output_type": "stream",
     "text": [
      "y = 38.08*x1 + 0.00*x2\n"
     ]
    }
   ],
   "source": [
    "print (\"y = {:.2f}*x1 + {:.2f}*x2\".format(coef[0], coef[1]))"
   ]
  },
  {
   "cell_type": "code",
   "execution_count": 29,
   "metadata": {},
   "outputs": [
    {
     "name": "stdout",
     "output_type": "stream",
     "text": [
      "y = 38.29*x1 + 0.46*x2 + -0.48\n"
     ]
    }
   ],
   "source": [
    "print (\"y = {:.2f}*x1 + {:.2f}*x2 + {:.2f}\".format(linear_regressor.coef_[0], \n",
    "                                                  linear_regressor.coef_[1], \n",
    "                                                  linear_regressor.intercept_))"
   ]
  },
  {
   "cell_type": "markdown",
   "metadata": {},
   "source": [
    "#### Lasso"
   ]
  },
  {
   "cell_type": "code",
   "execution_count": 31,
   "metadata": {},
   "outputs": [],
   "source": [
    "lasso_regressor = linear_model.Lasso(random_state = 3)\n",
    "# создаем модель\n",
    "lasso_regressor.fit(train_data, train_labels)\n",
    "# обучаем модель\n",
    "lasso_predictions = lasso_regressor.predict(test_data)\n",
    "# прогнозируем данные"
   ]
  },
  {
   "cell_type": "code",
   "execution_count": 32,
   "metadata": {},
   "outputs": [
    {
     "name": "stdout",
     "output_type": "stream",
     "text": [
      "mean: 4.154478246666398, std: 1.0170354384993354\n"
     ]
    }
   ],
   "source": [
    "lasso_scoring = cross_validation.cross_val_score(lasso_regressor, data, target, scoring = scorer, cv = 10)\n",
    "print ('mean: {}, std: {}'.format(lasso_scoring.mean(), lasso_scoring.std()))"
   ]
  },
  {
   "cell_type": "code",
   "execution_count": 34,
   "metadata": {},
   "outputs": [
    {
     "name": "stdout",
     "output_type": "stream",
     "text": [
      "[37.21892947  0.        ]\n"
     ]
    }
   ],
   "source": [
    "print (lasso_regressor.coef_)"
   ]
  },
  {
   "cell_type": "code",
   "execution_count": 35,
   "metadata": {},
   "outputs": [
    {
     "name": "stdout",
     "output_type": "stream",
     "text": [
      "y = 38.08*x1 + 0.00*x2\n"
     ]
    }
   ],
   "source": [
    "print (\"y = {:.2f}*x1 + {:.2f}*x2\".format(coef[0], coef[1]))"
   ]
  },
  {
   "cell_type": "code",
   "execution_count": 36,
   "metadata": {},
   "outputs": [
    {
     "name": "stdout",
     "output_type": "stream",
     "text": [
      "y = 37.22*x1 + 0.00*x2\n"
     ]
    }
   ],
   "source": [
    "print (\"y = {:.2f}*x1 + {:.2f}*x2\".format(lasso_regressor.coef_[0], lasso_regressor.coef_[1]))\n",
    "# L1(Lasso) регуляризатор помогает произвести отбор признаков, поэтому кэф 0"
   ]
  }
 ],
 "metadata": {
  "kernelspec": {
   "display_name": "Python 3",
   "language": "python",
   "name": "python3"
  },
  "language_info": {
   "codemirror_mode": {
    "name": "ipython",
    "version": 3
   },
   "file_extension": ".py",
   "mimetype": "text/x-python",
   "name": "python",
   "nbconvert_exporter": "python",
   "pygments_lexer": "ipython3",
   "version": "3.7.0"
  }
 },
 "nbformat": 4,
 "nbformat_minor": 1
}
