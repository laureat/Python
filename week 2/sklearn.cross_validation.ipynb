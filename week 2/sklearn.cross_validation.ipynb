{
 "cells": [
  {
   "cell_type": "markdown",
   "metadata": {},
   "source": [
    "# Sklearn"
   ]
  },
  {
   "cell_type": "markdown",
   "metadata": {},
   "source": [
    "## sklearn.cross_validation"
   ]
  },
  {
   "cell_type": "markdown",
   "metadata": {},
   "source": [
    "документация: http://scikit-learn.org/stable/modules/cross_validation.html"
   ]
  },
  {
   "cell_type": "code",
   "execution_count": 1,
   "metadata": {},
   "outputs": [
    {
     "name": "stderr",
     "output_type": "stream",
     "text": [
      "/home/ayan/anaconda3/lib/python3.7/site-packages/sklearn/cross_validation.py:41: DeprecationWarning: This module was deprecated in version 0.18 in favor of the model_selection module into which all the refactored classes and functions are moved. Also note that the interface of the new CV iterators are different from that of this module. This module will be removed in 0.20.\n",
      "  \"This module will be removed in 0.20.\", DeprecationWarning)\n"
     ]
    }
   ],
   "source": [
    "from sklearn import cross_validation, datasets\n",
    "\n",
    "import numpy as np"
   ]
  },
  {
   "cell_type": "markdown",
   "metadata": {},
   "source": [
    "### Разовое разбиение данных на обучение и тест с помощью train_test_split"
   ]
  },
  {
   "cell_type": "code",
   "execution_count": 2,
   "metadata": {},
   "outputs": [],
   "source": [
    "iris = datasets.load_iris()"
   ]
  },
  {
   "cell_type": "code",
   "execution_count": 3,
   "metadata": {},
   "outputs": [],
   "source": [
    "train_data, test_data, train_labels, test_labels = cross_validation.train_test_split(iris.data, iris.target, \n",
    "                                                                                     test_size = 0.3)\n",
    "# получается разбиение на обучающую и тестовую выборку происходит с помощью модуля cross_validation"
   ]
  },
  {
   "cell_type": "code",
   "execution_count": 16,
   "metadata": {},
   "outputs": [
    {
     "data": {
      "text/plain": [
       "array([1, 0, 2, 1, 2, 1, 0, 1, 1, 0, 0, 2, 0, 0, 0, 1, 1, 0, 1, 1, 0, 2,\n",
       "       2, 1, 2, 2, 0, 0, 0, 1, 2, 2, 0, 0, 2, 1, 0, 1, 0, 2, 2, 0, 2, 2,\n",
       "       0, 1, 0, 1, 2, 0, 2, 2, 2, 0, 2, 2, 1, 1, 1, 0, 1, 2, 2, 1, 2, 0,\n",
       "       0, 2, 0, 1, 0, 0, 1, 2, 2, 0, 1, 1, 2, 0, 2, 2, 1, 0, 2, 1, 0, 2,\n",
       "       0, 1, 2, 1, 1, 0, 1, 1, 0, 0, 0, 1, 2, 1, 1, 1, 2])"
      ]
     },
     "execution_count": 16,
     "metadata": {},
     "output_type": "execute_result"
    }
   ],
   "source": [
    "train_labels"
   ]
  },
  {
   "cell_type": "code",
   "execution_count": 17,
   "metadata": {},
   "outputs": [
    {
     "data": {
      "text/plain": [
       "array([0, 0, 2, 1, 2, 1, 0, 1, 2, 2, 0, 0, 2, 2, 0, 1, 1, 1, 0, 2, 2, 1,\n",
       "       1, 0, 1, 0, 0, 1, 1, 2, 2, 1, 0, 2, 2, 2, 0, 2, 0, 2, 1, 0, 1, 2,\n",
       "       1])"
      ]
     },
     "execution_count": 17,
     "metadata": {},
     "output_type": "execute_result"
    }
   ],
   "source": [
    "test_labels"
   ]
  },
  {
   "cell_type": "code",
   "execution_count": 4,
   "metadata": {},
   "outputs": [
    {
     "data": {
      "text/plain": [
       "0.3"
      ]
     },
     "execution_count": 4,
     "metadata": {},
     "output_type": "execute_result"
    }
   ],
   "source": [
    "#убедимся, что тестовая выборка действительно составляет 0.3 от всех данных\n",
    "float(len(test_labels))/len(iris.data)"
   ]
  },
  {
   "cell_type": "code",
   "execution_count": 14,
   "metadata": {},
   "outputs": [
    {
     "data": {
      "text/plain": [
       "0.3"
      ]
     },
     "execution_count": 14,
     "metadata": {},
     "output_type": "execute_result"
    }
   ],
   "source": [
    "float(len(test_data))/len(iris.data)"
   ]
  },
  {
   "cell_type": "code",
   "execution_count": 13,
   "metadata": {},
   "outputs": [
    {
     "name": "stdout",
     "output_type": "stream",
     "text": [
      "Размер обучающей выборки: 105 объектов \n",
      "Размер тестовой выборки: 45 объектов\n"
     ]
    }
   ],
   "source": [
    "print ('Размер обучающей выборки: {} объектов \\nРазмер тестовой выборки: {} объектов'.format(len(train_data),\n",
    "                                                                                            len(test_data)))"
   ]
  },
  {
   "cell_type": "code",
   "execution_count": 18,
   "metadata": {},
   "outputs": [
    {
     "name": "stdout",
     "output_type": "stream",
     "text": [
      "Обучающая выборка:\n",
      " [[5.  2.3 3.3 1. ]\n",
      " [5.4 3.9 1.7 0.4]\n",
      " [7.7 3.  6.1 2.3]\n",
      " [6.  3.4 4.5 1.6]\n",
      " [6.7 3.1 5.6 2.4]]\n",
      "\n",
      "\n",
      "Тестовая выборка:\n",
      " [[5.7 3.8 1.7 0.3]\n",
      " [5.1 3.8 1.5 0.3]\n",
      " [6.3 3.4 5.6 2.4]\n",
      " [5.6 2.5 3.9 1.1]\n",
      " [6.  2.2 5.  1.5]]\n"
     ]
    }
   ],
   "source": [
    "print ('Обучающая выборка:\\n', train_data[:5])\n",
    "print ('\\n')\n",
    "print ('Тестовая выборка:\\n', test_data[:5])"
   ]
  },
  {
   "cell_type": "code",
   "execution_count": 19,
   "metadata": {},
   "outputs": [
    {
     "name": "stdout",
     "output_type": "stream",
     "text": [
      "Метки классов на обучающей выборке:\n",
      " [1 0 2 1 2 1 0 1 1 0 0 2 0 0 0 1 1 0 1 1 0 2 2 1 2 2 0 0 0 1 2 2 0 0 2 1 0\n",
      " 1 0 2 2 0 2 2 0 1 0 1 2 0 2 2 2 0 2 2 1 1 1 0 1 2 2 1 2 0 0 2 0 1 0 0 1 2\n",
      " 2 0 1 1 2 0 2 2 1 0 2 1 0 2 0 1 2 1 1 0 1 1 0 0 0 1 2 1 1 1 2]\n",
      "\n",
      "\n",
      "Метки классов на тестовой выборке:\n",
      " [0 0 2 1 2 1 0 1 2 2 0 0 2 2 0 1 1 1 0 2 2 1 1 0 1 0 0 1 1 2 2 1 0 2 2 2 0\n",
      " 2 0 2 1 0 1 2 1]\n"
     ]
    }
   ],
   "source": [
    "print ('Метки классов на обучающей выборке:\\n', train_labels)\n",
    "print ('\\n')\n",
    "print ('Метки классов на тестовой выборке:\\n', test_labels)"
   ]
  },
  {
   "cell_type": "markdown",
   "metadata": {},
   "source": [
    "### Стратегии проведения кросс-валидации"
   ]
  },
  {
   "cell_type": "markdown",
   "metadata": {},
   "source": [
    "#### KFold"
   ]
  },
  {
   "cell_type": "code",
   "execution_count": 55,
   "metadata": {},
   "outputs": [
    {
     "name": "stdout",
     "output_type": "stream",
     "text": [
      "[2 3 4 5 6 7 8 9] [0 1]\n",
      "[0 1 4 5 6 7 8 9] [2 3]\n",
      "[0 1 2 3 6 7 8 9] [4 5]\n",
      "[0 1 2 3 4 5 8 9] [6 7]\n",
      "[0 1 2 3 4 5 6 7] [8 9]\n"
     ]
    }
   ],
   "source": [
    "for train_indices, test_indices in cross_validation.KFold(10, n_folds = 5):\n",
    "    print (train_indices, test_indices)"
   ]
  },
  {
   "cell_type": "code",
   "execution_count": 57,
   "metadata": {},
   "outputs": [
    {
     "name": "stdout",
     "output_type": "stream",
     "text": [
      "[0 1 4 8 9] [2 3 5 6 7]\n",
      "[2 3 5 6 7] [0 1 4 8 9]\n"
     ]
    }
   ],
   "source": [
    "for train_indices, test_indices in cross_validation.KFold(10, n_folds = 2, shuffle = True):\n",
    "    print (train_indices, test_indices)"
   ]
  },
  {
   "cell_type": "code",
   "execution_count": 58,
   "metadata": {},
   "outputs": [
    {
     "name": "stdout",
     "output_type": "stream",
     "text": [
      "[1 3 5 7 8] [0 2 4 6 9]\n",
      "[0 2 4 6 9] [1 3 5 7 8]\n"
     ]
    }
   ],
   "source": [
    "for train_indices, test_indices in cross_validation.KFold(10, n_folds = 2, shuffle = True, random_state = 1):\n",
    "    print (train_indices, test_indices)"
   ]
  },
  {
   "cell_type": "markdown",
   "metadata": {},
   "source": [
    "#### StratifiedKFold"
   ]
  },
  {
   "cell_type": "code",
   "execution_count": 68,
   "metadata": {},
   "outputs": [
    {
     "name": "stdout",
     "output_type": "stream",
     "text": [
      "[0 0 0 0 0 1 1 1 1 1]\n",
      "[3 4 8 9] [0 1 2 5 6 7]\n",
      "[0 1 2 5 6 7] [3 4 8 9]\n"
     ]
    }
   ],
   "source": [
    "target = np.array([0] * 5 + [1] * 5)\n",
    "print (target)\n",
    "for train_indices, test_indices in cross_validation.StratifiedKFold(target, n_folds = 2, shuffle = True, random_state = 0):\n",
    "    print (train_indices, test_indices)\n",
    "    \n",
    "# first fold (with its training&test data) and second fold (with its training&test data)\n",
    "# so 2-fold means there are two datasets extracted from one dataset"
   ]
  },
  {
   "cell_type": "code",
   "execution_count": 74,
   "metadata": {},
   "outputs": [
    {
     "name": "stdout",
     "output_type": "stream",
     "text": [
      "[0 1 0 1 0 1 0 1 0 1]\n",
      "[0 1 2 3] [4 5 6 7 8 9]\n",
      "[4 5 6 7 8 9] [0 1 2 3]\n"
     ]
    }
   ],
   "source": [
    "target = np.array([0, 1] * 5)\n",
    "print (target)\n",
    "for train_indices, test_indices in cross_validation.StratifiedKFold(target, n_folds = 2,shuffle = True):\n",
    "    print (train_indices, test_indices)\n",
    "# same as before but Shuffle added"
   ]
  },
  {
   "cell_type": "markdown",
   "metadata": {},
   "source": [
    "#### ShuffleSplit"
   ]
  },
  {
   "cell_type": "code",
   "execution_count": 87,
   "metadata": {},
   "outputs": [
    {
     "name": "stdout",
     "output_type": "stream",
     "text": [
      "[44 32 29 36 13 14 18 31  5  7  6 21 42 23  9  8 27 33 26  4 25 45 19 35\n",
      "  2  3 24 12 41 11 38 48 15  1 28 46 22  0 47 37] [39 20 17 43 30 40 10 34 16 49]\n",
      "[36 17  2  9 31 22 13 21 42 23  8 47 45  7 34 44 38 41 30 33 49 32 35 14\n",
      " 16 48 25 20 28  1 46  3 10  6 12 15  4 19 40 18] [ 0 27 39 11 24 29 26 37 43  5]\n",
      "[ 5 39  4 24 34 30 28 11 46 41  6 29 33 25 16 19 20 47 36  9 45 31 37  3\n",
      " 14 23 26 10  2 49 43 21 13 15  0 22 42 44  8 12] [35 18 40  7 38 32 17 48 27  1]\n",
      "[14 30 24  7 38 46 28  0 35 22 39 20 34 49 36 41 33  4  5 43 48 27 11 29\n",
      " 13 25 10  8 45  9 23 32 26 21  1 12 42 16 40 47] [37  3  2 15 18 44 17 31  6 19]\n",
      "[44 11 42 32 46 22  4 10 24 31 33 12 27 34 43 14 21 13 29  7 23 25 38 19\n",
      " 28  0 40  2 16 37 48  9 36 49  5 30 15 26  6 17] [20  1 41 18 35  8 45 47  3 39]\n",
      "[24  8 39 28  0 22 12 34 25 44 42 49 45  2  4 41  9  5 21 32 46 36 26 15\n",
      " 30 48 27  1  3 29 40 38 23 13 16 31 17 47 18 10] [37 35 19 14 33  6 43 11 20  7]\n",
      "[18 20 40 17 13 24  6 38 34 49 28 27 33 37 43 36 35 23  0  3  2 16 41 44\n",
      " 45 31 48  8  7 11 46 25 22 12 10 26  5 42 30 29] [ 1 32 19 14  4 47 39 21  9 15]\n",
      "[ 8 38 26 11 43 22 30  1 17 27  7 16 13 25 39 23 20 44 35 31 37 18 41 45\n",
      " 33 34 32  3 48  4 10 19 46  6 12  2  0 24 21 28] [14 49 36 29  5 40 47  9 42 15]\n",
      "[24 46 31 17 22 37  8  2 32  7 11 42 33  4 40 48 36 10 27 19  0 28 16 35\n",
      " 30  1 44 34 21 14 26 18 47 45 23 39 29 20 49 41] [15 43 12  5  6  9 25 38  3 13]\n",
      "[19 49  3 28 34 11  5 44 41  8 21 45 17 32 40 22 37 27 38 36  4  7 31 47\n",
      " 48 30 23 25 15 43  9 26 35  2 12 14 18 46  1 42] [20  6 29 16  0 13 24 39 33 10]\n"
     ]
    }
   ],
   "source": [
    "for train_indices, test_indices in cross_validation.ShuffleSplit(50, n_iter = 10, test_size = 0.2):\n",
    "    print (train_indices, test_indices)\n",
    "    \n",
    "# first shuffles and then makes usual split to training Vs test data"
   ]
  },
  {
   "cell_type": "markdown",
   "metadata": {},
   "source": [
    "#### StratifiedShuffleSplit"
   ]
  },
  {
   "cell_type": "code",
   "execution_count": 81,
   "metadata": {},
   "outputs": [
    {
     "name": "stdout",
     "output_type": "stream",
     "text": [
      "[0 0 0 0 0 1 1 1 1 1]\n",
      "[3 9 1 2 5 0 7 6] [8 4]\n",
      "[1 8 0 6 3 7 2 5] [9 4]\n",
      "[4 2 6 8 3 0 9 5] [1 7]\n",
      "[7 6 5 3 4 9 2 1] [8 0]\n"
     ]
    }
   ],
   "source": [
    "target = np.array([0] * 5 + [1] * 5)\n",
    "print (target)\n",
    "for train_indices, test_indices in cross_validation.StratifiedShuffleSplit(target, n_iter = 4, test_size = 0.2):\n",
    "    print (train_indices, test_indices)\n",
    "# variation of Shuffle split\n",
    "# first shuffles data, then takes splits by preserving the same percentage for each target class as in the complete set."
   ]
  },
  {
   "cell_type": "markdown",
   "metadata": {},
   "source": [
    "#### Leave-One-Out"
   ]
  },
  {
   "cell_type": "code",
   "execution_count": 83,
   "metadata": {},
   "outputs": [
    {
     "name": "stdout",
     "output_type": "stream",
     "text": [
      "[1 2 3 4 5 6 7 8 9] [0]\n",
      "[0 2 3 4 5 6 7 8 9] [1]\n",
      "[0 1 3 4 5 6 7 8 9] [2]\n",
      "[0 1 2 4 5 6 7 8 9] [3]\n",
      "[0 1 2 3 5 6 7 8 9] [4]\n",
      "[0 1 2 3 4 6 7 8 9] [5]\n",
      "[0 1 2 3 4 5 7 8 9] [6]\n",
      "[0 1 2 3 4 5 6 8 9] [7]\n",
      "[0 1 2 3 4 5 6 7 9] [8]\n",
      "[0 1 2 3 4 5 6 7 8] [9]\n"
     ]
    }
   ],
   "source": [
    "for train_indices, test_index in cross_validation.LeaveOneOut(10):\n",
    "    print (train_indices, test_index)\n",
    "# Each learning set is created by taking all the samples except one, the test set being the sample left out."
   ]
  },
  {
   "cell_type": "markdown",
   "metadata": {},
   "source": [
    "Больше стратегий проведения кросс-валидации доступно здесь: http://scikit-learn.org/stable/modules/cross_validation.html#cross-validation-iterators"
   ]
  }
 ],
 "metadata": {
  "kernelspec": {
   "display_name": "Python 3",
   "language": "python",
   "name": "python3"
  },
  "language_info": {
   "codemirror_mode": {
    "name": "ipython",
    "version": 3
   },
   "file_extension": ".py",
   "mimetype": "text/x-python",
   "name": "python",
   "nbconvert_exporter": "python",
   "pygments_lexer": "ipython3",
   "version": "3.7.0"
  }
 },
 "nbformat": 4,
 "nbformat_minor": 1
}
