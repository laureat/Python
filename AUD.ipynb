{
 "cells": [
  {
   "cell_type": "code",
   "execution_count": 1,
   "metadata": {},
   "outputs": [],
   "source": [
    "import pandas as pd\n",
    "import numpy as np\n",
    "import seaborn as sns\n",
    "sns.set()\n",
    "import matplotlib.pyplot as plt"
   ]
  },
  {
   "cell_type": "code",
   "execution_count": 2,
   "metadata": {},
   "outputs": [],
   "source": [
    "df=pd.read_csv('aud_data.csv',delimiter=';')"
   ]
  },
  {
   "cell_type": "code",
   "execution_count": 3,
   "metadata": {},
   "outputs": [
    {
     "data": {
      "text/html": [
       "<div>\n",
       "<style scoped>\n",
       "    .dataframe tbody tr th:only-of-type {\n",
       "        vertical-align: middle;\n",
       "    }\n",
       "\n",
       "    .dataframe tbody tr th {\n",
       "        vertical-align: top;\n",
       "    }\n",
       "\n",
       "    .dataframe thead th {\n",
       "        text-align: right;\n",
       "    }\n",
       "</style>\n",
       "<table border=\"1\" class=\"dataframe\">\n",
       "  <thead>\n",
       "    <tr style=\"text-align: right;\">\n",
       "      <th></th>\n",
       "      <th>Date</th>\n",
       "      <th>f1</th>\n",
       "      <th>f2</th>\n",
       "      <th>f3</th>\n",
       "      <th>f4</th>\n",
       "      <th>f5</th>\n",
       "      <th>f6</th>\n",
       "      <th>f7</th>\n",
       "      <th>f8</th>\n",
       "      <th>f9</th>\n",
       "      <th>...</th>\n",
       "      <th>f24</th>\n",
       "      <th>m1</th>\n",
       "      <th>m2</th>\n",
       "      <th>m3</th>\n",
       "      <th>m4</th>\n",
       "      <th>m5</th>\n",
       "      <th>m6</th>\n",
       "      <th>m7</th>\n",
       "      <th>m8</th>\n",
       "      <th>target</th>\n",
       "    </tr>\n",
       "  </thead>\n",
       "  <tbody>\n",
       "    <tr>\n",
       "      <th>0</th>\n",
       "      <td>31.12.2018</td>\n",
       "      <td>0.2</td>\n",
       "      <td>0.4</td>\n",
       "      <td>-1.0</td>\n",
       "      <td>1.8</td>\n",
       "      <td>-0.7</td>\n",
       "      <td>0.1</td>\n",
       "      <td>0.3</td>\n",
       "      <td>1.2</td>\n",
       "      <td>1.1</td>\n",
       "      <td>...</td>\n",
       "      <td>0.2</td>\n",
       "      <td>5646.3999</td>\n",
       "      <td>6.5999</td>\n",
       "      <td>2.318</td>\n",
       "      <td>1.906</td>\n",
       "      <td>1.900</td>\n",
       "      <td>1.638</td>\n",
       "      <td>-0.75</td>\n",
       "      <td>40.15</td>\n",
       "      <td>0.7049</td>\n",
       "    </tr>\n",
       "    <tr>\n",
       "      <th>1</th>\n",
       "      <td>30.12.2018</td>\n",
       "      <td>NaN</td>\n",
       "      <td>NaN</td>\n",
       "      <td>NaN</td>\n",
       "      <td>NaN</td>\n",
       "      <td>NaN</td>\n",
       "      <td>NaN</td>\n",
       "      <td>NaN</td>\n",
       "      <td>NaN</td>\n",
       "      <td>NaN</td>\n",
       "      <td>...</td>\n",
       "      <td>NaN</td>\n",
       "      <td>NaN</td>\n",
       "      <td>NaN</td>\n",
       "      <td>NaN</td>\n",
       "      <td>NaN</td>\n",
       "      <td>NaN</td>\n",
       "      <td>NaN</td>\n",
       "      <td>NaN</td>\n",
       "      <td>NaN</td>\n",
       "      <td>NaN</td>\n",
       "    </tr>\n",
       "    <tr>\n",
       "      <th>2</th>\n",
       "      <td>29.12.2018</td>\n",
       "      <td>NaN</td>\n",
       "      <td>NaN</td>\n",
       "      <td>NaN</td>\n",
       "      <td>NaN</td>\n",
       "      <td>NaN</td>\n",
       "      <td>NaN</td>\n",
       "      <td>NaN</td>\n",
       "      <td>NaN</td>\n",
       "      <td>NaN</td>\n",
       "      <td>...</td>\n",
       "      <td>NaN</td>\n",
       "      <td>NaN</td>\n",
       "      <td>NaN</td>\n",
       "      <td>NaN</td>\n",
       "      <td>NaN</td>\n",
       "      <td>NaN</td>\n",
       "      <td>NaN</td>\n",
       "      <td>NaN</td>\n",
       "      <td>NaN</td>\n",
       "      <td>NaN</td>\n",
       "    </tr>\n",
       "    <tr>\n",
       "      <th>3</th>\n",
       "      <td>28.12.2018</td>\n",
       "      <td>NaN</td>\n",
       "      <td>NaN</td>\n",
       "      <td>NaN</td>\n",
       "      <td>NaN</td>\n",
       "      <td>NaN</td>\n",
       "      <td>NaN</td>\n",
       "      <td>NaN</td>\n",
       "      <td>NaN</td>\n",
       "      <td>NaN</td>\n",
       "      <td>...</td>\n",
       "      <td>NaN</td>\n",
       "      <td>5654.3242</td>\n",
       "      <td>6.5981</td>\n",
       "      <td>2.362</td>\n",
       "      <td>1.942</td>\n",
       "      <td>1.934</td>\n",
       "      <td>1.647</td>\n",
       "      <td>-0.70</td>\n",
       "      <td>40.95</td>\n",
       "      <td>0.7047</td>\n",
       "    </tr>\n",
       "    <tr>\n",
       "      <th>4</th>\n",
       "      <td>27.12.2018</td>\n",
       "      <td>NaN</td>\n",
       "      <td>NaN</td>\n",
       "      <td>NaN</td>\n",
       "      <td>NaN</td>\n",
       "      <td>NaN</td>\n",
       "      <td>NaN</td>\n",
       "      <td>NaN</td>\n",
       "      <td>NaN</td>\n",
       "      <td>NaN</td>\n",
       "      <td>...</td>\n",
       "      <td>NaN</td>\n",
       "      <td>5597.2378</td>\n",
       "      <td>6.5850</td>\n",
       "      <td>2.378</td>\n",
       "      <td>1.953</td>\n",
       "      <td>1.953</td>\n",
       "      <td>1.646</td>\n",
       "      <td>-1.35</td>\n",
       "      <td>40.20</td>\n",
       "      <td>0.7033</td>\n",
       "    </tr>\n",
       "  </tbody>\n",
       "</table>\n",
       "<p>5 rows × 34 columns</p>\n",
       "</div>"
      ],
      "text/plain": [
       "         Date   f1   f2   f3   f4   f5   f6   f7   f8   f9   ...    f24  \\\n",
       "0  31.12.2018  0.2  0.4 -1.0  1.8 -0.7  0.1  0.3  1.2  1.1   ...    0.2   \n",
       "1  30.12.2018  NaN  NaN  NaN  NaN  NaN  NaN  NaN  NaN  NaN   ...    NaN   \n",
       "2  29.12.2018  NaN  NaN  NaN  NaN  NaN  NaN  NaN  NaN  NaN   ...    NaN   \n",
       "3  28.12.2018  NaN  NaN  NaN  NaN  NaN  NaN  NaN  NaN  NaN   ...    NaN   \n",
       "4  27.12.2018  NaN  NaN  NaN  NaN  NaN  NaN  NaN  NaN  NaN   ...    NaN   \n",
       "\n",
       "         m1       m2     m3     m4     m5     m6    m7     m8  target  \n",
       "0  5646.3999  6.5999  2.318  1.906  1.900  1.638 -0.75  40.15  0.7049  \n",
       "1        NaN     NaN    NaN    NaN    NaN    NaN   NaN    NaN     NaN  \n",
       "2        NaN     NaN    NaN    NaN    NaN    NaN   NaN    NaN     NaN  \n",
       "3  5654.3242  6.5981  2.362  1.942  1.934  1.647 -0.70  40.95  0.7047  \n",
       "4  5597.2378  6.5850  2.378  1.953  1.953  1.646 -1.35  40.20  0.7033  \n",
       "\n",
       "[5 rows x 34 columns]"
      ]
     },
     "execution_count": 3,
     "metadata": {},
     "output_type": "execute_result"
    }
   ],
   "source": [
    "df.head()"
   ]
  },
  {
   "cell_type": "code",
   "execution_count": 4,
   "metadata": {},
   "outputs": [],
   "source": [
    "df['Date']=pd.to_datetime(df['Date'], dayfirst = True)"
   ]
  },
  {
   "cell_type": "code",
   "execution_count": 5,
   "metadata": {
    "scrolled": true
   },
   "outputs": [],
   "source": [
    "df=df.set_index('Date')"
   ]
  },
  {
   "cell_type": "code",
   "execution_count": 6,
   "metadata": {},
   "outputs": [],
   "source": [
    "fundamentals=df[[col for col in df.columns if 'f' in col]].columns.tolist()\n",
    "market=df[[col for col in df.columns if 'm' in col]].columns.tolist()"
   ]
  },
  {
   "cell_type": "code",
   "execution_count": 7,
   "metadata": {},
   "outputs": [],
   "source": [
    "df[fundamentals]=df[fundamentals].apply(lambda x: x.fillna(method='bfill').fillna(0), axis=0)"
   ]
  },
  {
   "cell_type": "code",
   "execution_count": 8,
   "metadata": {
    "scrolled": true
   },
   "outputs": [],
   "source": [
    "market_data=df[market][df.index.dayofweek<5]"
   ]
  },
  {
   "cell_type": "code",
   "execution_count": 9,
   "metadata": {},
   "outputs": [
    {
     "name": "stdout",
     "output_type": "stream",
     "text": [
      "<class 'pandas.core.frame.DataFrame'>\n",
      "DatetimeIndex: 7306 entries, 2018-12-31 to 1990-12-31\n",
      "Data columns (total 8 columns):\n",
      "m1     6733 non-null float64\n",
      "m2     7306 non-null float64\n",
      "m3     7291 non-null float64\n",
      "m4     7161 non-null float64\n",
      "m5     7179 non-null float64\n",
      "m6     3550 non-null float64\n",
      "m7     4962 non-null float64\n",
      "m8     4966 non-null float64\n",
      "dtypes: float64(8)\n",
      "memory usage: 513.7 KB\n"
     ]
    }
   ],
   "source": [
    "market_data.info()\n",
    "# m6 has half of the data abscent"
   ]
  },
  {
   "cell_type": "code",
   "execution_count": 10,
   "metadata": {},
   "outputs": [
    {
     "data": {
      "text/html": [
       "<div>\n",
       "<style scoped>\n",
       "    .dataframe tbody tr th:only-of-type {\n",
       "        vertical-align: middle;\n",
       "    }\n",
       "\n",
       "    .dataframe tbody tr th {\n",
       "        vertical-align: top;\n",
       "    }\n",
       "\n",
       "    .dataframe thead th {\n",
       "        text-align: right;\n",
       "    }\n",
       "</style>\n",
       "<table border=\"1\" class=\"dataframe\">\n",
       "  <thead>\n",
       "    <tr style=\"text-align: right;\">\n",
       "      <th></th>\n",
       "      <th>m1</th>\n",
       "      <th>m2</th>\n",
       "      <th>m3</th>\n",
       "      <th>m4</th>\n",
       "      <th>m5</th>\n",
       "      <th>m6</th>\n",
       "      <th>m7</th>\n",
       "      <th>m8</th>\n",
       "    </tr>\n",
       "    <tr>\n",
       "      <th>Date</th>\n",
       "      <th></th>\n",
       "      <th></th>\n",
       "      <th></th>\n",
       "      <th></th>\n",
       "      <th></th>\n",
       "      <th></th>\n",
       "      <th></th>\n",
       "      <th></th>\n",
       "    </tr>\n",
       "  </thead>\n",
       "  <tbody>\n",
       "    <tr>\n",
       "      <th>2018-12-31</th>\n",
       "      <td>5646.3999</td>\n",
       "      <td>6.5999</td>\n",
       "      <td>2.318</td>\n",
       "      <td>1.906</td>\n",
       "      <td>1.900</td>\n",
       "      <td>1.638</td>\n",
       "      <td>-0.75</td>\n",
       "      <td>40.15</td>\n",
       "    </tr>\n",
       "    <tr>\n",
       "      <th>2018-12-28</th>\n",
       "      <td>5654.3242</td>\n",
       "      <td>6.5981</td>\n",
       "      <td>2.362</td>\n",
       "      <td>1.942</td>\n",
       "      <td>1.934</td>\n",
       "      <td>1.647</td>\n",
       "      <td>-0.70</td>\n",
       "      <td>40.95</td>\n",
       "    </tr>\n",
       "    <tr>\n",
       "      <th>2018-12-27</th>\n",
       "      <td>5597.2378</td>\n",
       "      <td>6.5850</td>\n",
       "      <td>2.378</td>\n",
       "      <td>1.953</td>\n",
       "      <td>1.953</td>\n",
       "      <td>1.646</td>\n",
       "      <td>-1.35</td>\n",
       "      <td>40.20</td>\n",
       "    </tr>\n",
       "    <tr>\n",
       "      <th>2018-12-26</th>\n",
       "      <td>NaN</td>\n",
       "      <td>6.6159</td>\n",
       "      <td>2.363</td>\n",
       "      <td>1.934</td>\n",
       "      <td>1.947</td>\n",
       "      <td>1.628</td>\n",
       "      <td>-2.70</td>\n",
       "      <td>41.96</td>\n",
       "    </tr>\n",
       "    <tr>\n",
       "      <th>2018-12-25</th>\n",
       "      <td>NaN</td>\n",
       "      <td>6.5878</td>\n",
       "      <td>2.363</td>\n",
       "      <td>1.934</td>\n",
       "      <td>1.947</td>\n",
       "      <td>1.656</td>\n",
       "      <td>-2.70</td>\n",
       "      <td>41.96</td>\n",
       "    </tr>\n",
       "  </tbody>\n",
       "</table>\n",
       "</div>"
      ],
      "text/plain": [
       "                  m1       m2     m3     m4     m5     m6    m7     m8\n",
       "Date                                                                  \n",
       "2018-12-31  5646.3999  6.5999  2.318  1.906  1.900  1.638 -0.75  40.15\n",
       "2018-12-28  5654.3242  6.5981  2.362  1.942  1.934  1.647 -0.70  40.95\n",
       "2018-12-27  5597.2378  6.5850  2.378  1.953  1.953  1.646 -1.35  40.20\n",
       "2018-12-26        NaN  6.6159  2.363  1.934  1.947  1.628 -2.70  41.96\n",
       "2018-12-25        NaN  6.5878  2.363  1.934  1.947  1.656 -2.70  41.96"
      ]
     },
     "execution_count": 10,
     "metadata": {},
     "output_type": "execute_result"
    }
   ],
   "source": [
    "market_data.head()"
   ]
  },
  {
   "cell_type": "markdown",
   "metadata": {},
   "source": [
    "## Adding features"
   ]
  },
  {
   "cell_type": "code",
   "execution_count": 11,
   "metadata": {},
   "outputs": [],
   "source": [
    "f0=market_data.pct_change(periods=1,fill_method=None)\n",
    "f1=market_data.pct_change(periods=5,fill_method=None)\n",
    "f2=market_data.pct_change(periods=10,fill_method=None)\n",
    "f3=market_data.pct_change(periods=30,fill_method=None)\n",
    "\n",
    "f4=market_data.rolling(5).mean()\n",
    "f5=market_data.rolling(10).mean()\n",
    "f6=market_data.rolling(30).mean()"
   ]
  },
  {
   "cell_type": "code",
   "execution_count": 12,
   "metadata": {},
   "outputs": [],
   "source": [
    "market_data[['m'+str(i)+'_pct_change' for i in range(1,9)]]=f0\n",
    "market_data[['m'+str(i)+'_pct_change_5' for i in range(1,9)]]=f1\n",
    "market_data[['m'+str(i)+'_pct_change_10' for i in range(1,9)]]=f2\n",
    "market_data[['m'+str(i)+'_pct_change_30' for i in range(1,9)]]=f3\n",
    "\n",
    "market_data[['m'+str(i)+'_mva_5' for i in range(1,9)]]=f4\n",
    "market_data[['m'+str(i)+'_mva_10' for i in range(1,9)]]=f5\n",
    "market_data[['m'+str(i)+'_mva_30' for i in range(1,9)]]=f6"
   ]
  },
  {
   "cell_type": "markdown",
   "metadata": {},
   "source": [
    "## Dealing with outliers"
   ]
  },
  {
   "cell_type": "code",
   "execution_count": 13,
   "metadata": {},
   "outputs": [],
   "source": [
    "def remove_outliers(data):\n",
    "    Q1=data.quantile(0.25)\n",
    "    Q3=data.quantile(0.75)\n",
    "    IQR=Q3-Q1\n",
    "    return data[(data>(Q1-1.5*IQR)) & (data<(Q3+1.5*IQR))]"
   ]
  },
  {
   "cell_type": "code",
   "execution_count": 21,
   "metadata": {},
   "outputs": [],
   "source": [
    "pct_change=['m1_pct_change','m2_pct_change', 'm3_pct_change', 'm4_pct_change',\\\n",
    "'m5_pct_change','m6_pct_change', 'm7_pct_change', 'm8_pct_change']"
   ]
  },
  {
   "cell_type": "code",
   "execution_count": 27,
   "metadata": {
    "scrolled": true
   },
   "outputs": [],
   "source": [
    "m=remove_outliers(market_data[pct_change])\n",
    "\n",
    "market_data=market_data.loc[m.index,:]"
   ]
  },
  {
   "cell_type": "code",
   "execution_count": 32,
   "metadata": {
    "scrolled": true
   },
   "outputs": [
    {
     "name": "stdout",
     "output_type": "stream",
     "text": [
      "<class 'pandas.core.frame.DataFrame'>\n",
      "DatetimeIndex: 7306 entries, 2018-12-31 to 1990-12-31\n",
      "Data columns (total 64 columns):\n",
      "m1                  6733 non-null float64\n",
      "m2                  7306 non-null float64\n",
      "m3                  7291 non-null float64\n",
      "m4                  7161 non-null float64\n",
      "m5                  7179 non-null float64\n",
      "m6                  3550 non-null float64\n",
      "m7                  4962 non-null float64\n",
      "m8                  4966 non-null float64\n",
      "m1_pct_change       6584 non-null float64\n",
      "m2_pct_change       7305 non-null float64\n",
      "m3_pct_change       7276 non-null float64\n",
      "m4_pct_change       7087 non-null float64\n",
      "m5_pct_change       7118 non-null float64\n",
      "m6_pct_change       3430 non-null float64\n",
      "m7_pct_change       4949 non-null float64\n",
      "m8_pct_change       4953 non-null float64\n",
      "m1_pct_change_5     6554 non-null float64\n",
      "m2_pct_change_5     7301 non-null float64\n",
      "m3_pct_change_5     7272 non-null float64\n",
      "m4_pct_change_5     7077 non-null float64\n",
      "m5_pct_change_5     7108 non-null float64\n",
      "m6_pct_change_5     3403 non-null float64\n",
      "m7_pct_change_5     4941 non-null float64\n",
      "m8_pct_change_5     4949 non-null float64\n",
      "m1_pct_change_10    6522 non-null float64\n",
      "m2_pct_change_10    7296 non-null float64\n",
      "m3_pct_change_10    7267 non-null float64\n",
      "m4_pct_change_10    7064 non-null float64\n",
      "m5_pct_change_10    7098 non-null float64\n",
      "m6_pct_change_10    3370 non-null float64\n",
      "m7_pct_change_10    4936 non-null float64\n",
      "m8_pct_change_10    4944 non-null float64\n",
      "m1_pct_change_30    6502 non-null float64\n",
      "m2_pct_change_30    7276 non-null float64\n",
      "m3_pct_change_30    7247 non-null float64\n",
      "m4_pct_change_30    7046 non-null float64\n",
      "m5_pct_change_30    7079 non-null float64\n",
      "m6_pct_change_30    3325 non-null float64\n",
      "m7_pct_change_30    4917 non-null float64\n",
      "m8_pct_change_30    4925 non-null float64\n",
      "m1_mva_5            6167 non-null float64\n",
      "m2_mva_5            7302 non-null float64\n",
      "m3_mva_5            7234 non-null float64\n",
      "m4_mva_5            6914 non-null float64\n",
      "m5_mva_5            6967 non-null float64\n",
      "m6_mva_5            3182 non-null float64\n",
      "m7_mva_5            4918 non-null float64\n",
      "m8_mva_5            4917 non-null float64\n",
      "m1_mva_10           5585 non-null float64\n",
      "m2_mva_10           7297 non-null float64\n",
      "m3_mva_10           7165 non-null float64\n",
      "m4_mva_10           6699 non-null float64\n",
      "m5_mva_10           6778 non-null float64\n",
      "m6_mva_10           2917 non-null float64\n",
      "m7_mva_10           4868 non-null float64\n",
      "m8_mva_10           4857 non-null float64\n",
      "m1_mva_30           3735 non-null float64\n",
      "m2_mva_30           7277 non-null float64\n",
      "m3_mva_30           6911 non-null float64\n",
      "m4_mva_30           6051 non-null float64\n",
      "m5_mva_30           6224 non-null float64\n",
      "m6_mva_30           2325 non-null float64\n",
      "m7_mva_30           4668 non-null float64\n",
      "m8_mva_30           4617 non-null float64\n",
      "dtypes: float64(64)\n",
      "memory usage: 3.9 MB\n"
     ]
    }
   ],
   "source": [
    "market_data.info()"
   ]
  },
  {
   "cell_type": "code",
   "execution_count": 43,
   "metadata": {},
   "outputs": [],
   "source": [
    "market_data=market_data.drop(market,axis=1)"
   ]
  },
  {
   "cell_type": "code",
   "execution_count": 44,
   "metadata": {},
   "outputs": [
    {
     "data": {
      "image/png": "[encoded data removed]",
      "text/plain": [
       "<Figure size 1440x720 with 56 Axes>"
      ]
     },
     "metadata": {
      "needs_background": "light"
     },
     "output_type": "display_data"
    }
   ],
   "source": [
    "market_data.hist(figsize=(20, 10), bins=20);"
   ]
  },
  {
   "cell_type": "code",
   "execution_count": 45,
   "metadata": {},
   "outputs": [],
   "source": [
    "market_data=market_data.fillna(method='bfill').fillna(method='ffill')"
   ]
  },
  {
   "cell_type": "markdown",
   "metadata": {},
   "source": [
    "## Selecting features"
   ]
  },
  {
   "cell_type": "code",
   "execution_count": 46,
   "metadata": {},
   "outputs": [],
   "source": [
    "def select_corr(data,threshold):\n",
    "    corr=data.corr()\n",
    "    columns = np.full((corr.shape[0],), True, dtype=bool)\n",
    "    for i in range(corr.shape[0]):\n",
    "        for j in range(i+1, corr.shape[0]):\n",
    "            if corr.iloc[i,j] >= threshold:\n",
    "                if columns[j]:\n",
    "                    columns[j] = False\n",
    "    selected_columns = data.columns[columns]\n",
    "    data = data[selected_columns]\n",
    "    return data"
   ]
  },
  {
   "cell_type": "code",
   "execution_count": 47,
   "metadata": {},
   "outputs": [],
   "source": [
    "md_selected=select_corr(market_data,0.3)"
   ]
  },
  {
   "cell_type": "code",
   "execution_count": 48,
   "metadata": {},
   "outputs": [
    {
     "data": {
      "text/plain": [
       "Index(['m1_pct_change', 'm2_pct_change', 'm3_pct_change', 'm6_pct_change',\n",
       "       'm7_pct_change', 'm8_pct_change', 'm7_pct_change_5', 'm8_pct_change_5',\n",
       "       'm7_pct_change_10', 'm8_pct_change_10', 'm7_pct_change_30',\n",
       "       'm8_pct_change_30', 'm1_mva_5', 'm7_mva_5'],\n",
       "      dtype='object')"
      ]
     },
     "execution_count": 48,
     "metadata": {},
     "output_type": "execute_result"
    }
   ],
   "source": [
    "md_selected.columns"
   ]
  },
  {
   "cell_type": "code",
   "execution_count": 50,
   "metadata": {
    "scrolled": true
   },
   "outputs": [
    {
     "data": {
      "text/html": [
       "<div>\n",
       "<style scoped>\n",
       "    .dataframe tbody tr th:only-of-type {\n",
       "        vertical-align: middle;\n",
       "    }\n",
       "\n",
       "    .dataframe tbody tr th {\n",
       "        vertical-align: top;\n",
       "    }\n",
       "\n",
       "    .dataframe thead th {\n",
       "        text-align: right;\n",
       "    }\n",
       "</style>\n",
       "<table border=\"1\" class=\"dataframe\">\n",
       "  <thead>\n",
       "    <tr style=\"text-align: right;\">\n",
       "      <th>Date</th>\n",
       "      <th>2018-12-31 00:00:00</th>\n",
       "      <th>2018-12-28 00:00:00</th>\n",
       "      <th>2018-12-27 00:00:00</th>\n",
       "      <th>2018-12-26 00:00:00</th>\n",
       "      <th>2018-12-25 00:00:00</th>\n",
       "    </tr>\n",
       "  </thead>\n",
       "  <tbody>\n",
       "    <tr>\n",
       "      <th>m1_pct_change</th>\n",
       "      <td>0.001403</td>\n",
       "      <td>0.001403</td>\n",
       "      <td>-0.010096</td>\n",
       "      <td>-0.004762</td>\n",
       "      <td>-0.004762</td>\n",
       "    </tr>\n",
       "    <tr>\n",
       "      <th>m2_pct_change</th>\n",
       "      <td>-0.000273</td>\n",
       "      <td>-0.000273</td>\n",
       "      <td>-0.001985</td>\n",
       "      <td>0.004692</td>\n",
       "      <td>-0.004247</td>\n",
       "    </tr>\n",
       "    <tr>\n",
       "      <th>m3_pct_change</th>\n",
       "      <td>0.018982</td>\n",
       "      <td>0.018982</td>\n",
       "      <td>0.006774</td>\n",
       "      <td>-0.006308</td>\n",
       "      <td>0.000000</td>\n",
       "    </tr>\n",
       "    <tr>\n",
       "      <th>m6_pct_change</th>\n",
       "      <td>0.005495</td>\n",
       "      <td>0.005495</td>\n",
       "      <td>-0.000607</td>\n",
       "      <td>-0.010936</td>\n",
       "      <td>0.017199</td>\n",
       "    </tr>\n",
       "    <tr>\n",
       "      <th>m7_pct_change</th>\n",
       "      <td>-0.066667</td>\n",
       "      <td>-0.066667</td>\n",
       "      <td>0.928571</td>\n",
       "      <td>1.000000</td>\n",
       "      <td>0.000000</td>\n",
       "    </tr>\n",
       "    <tr>\n",
       "      <th>m8_pct_change</th>\n",
       "      <td>0.019925</td>\n",
       "      <td>0.019925</td>\n",
       "      <td>-0.018315</td>\n",
       "      <td>0.043781</td>\n",
       "      <td>0.000000</td>\n",
       "    </tr>\n",
       "    <tr>\n",
       "      <th>m7_pct_change_5</th>\n",
       "      <td>2.600000</td>\n",
       "      <td>2.600000</td>\n",
       "      <td>2.600000</td>\n",
       "      <td>2.600000</td>\n",
       "      <td>2.600000</td>\n",
       "    </tr>\n",
       "    <tr>\n",
       "      <th>m8_pct_change_5</th>\n",
       "      <td>0.044832</td>\n",
       "      <td>0.044832</td>\n",
       "      <td>0.044832</td>\n",
       "      <td>0.044832</td>\n",
       "      <td>0.044832</td>\n",
       "    </tr>\n",
       "    <tr>\n",
       "      <th>m7_pct_change_10</th>\n",
       "      <td>-8.000000</td>\n",
       "      <td>-8.000000</td>\n",
       "      <td>-8.000000</td>\n",
       "      <td>-8.000000</td>\n",
       "      <td>-8.000000</td>\n",
       "    </tr>\n",
       "    <tr>\n",
       "      <th>m8_pct_change_10</th>\n",
       "      <td>-0.012453</td>\n",
       "      <td>-0.012453</td>\n",
       "      <td>-0.012453</td>\n",
       "      <td>-0.012453</td>\n",
       "      <td>-0.012453</td>\n",
       "    </tr>\n",
       "    <tr>\n",
       "      <th>m7_pct_change_30</th>\n",
       "      <td>-27.400000</td>\n",
       "      <td>-27.400000</td>\n",
       "      <td>-27.400000</td>\n",
       "      <td>-27.400000</td>\n",
       "      <td>-27.400000</td>\n",
       "    </tr>\n",
       "    <tr>\n",
       "      <th>m8_pct_change_30</th>\n",
       "      <td>0.017435</td>\n",
       "      <td>0.017435</td>\n",
       "      <td>0.017435</td>\n",
       "      <td>0.017435</td>\n",
       "      <td>0.017435</td>\n",
       "    </tr>\n",
       "    <tr>\n",
       "      <th>m1_mva_5</th>\n",
       "      <td>5527.465240</td>\n",
       "      <td>5527.465240</td>\n",
       "      <td>5527.465240</td>\n",
       "      <td>5527.465240</td>\n",
       "      <td>5527.465240</td>\n",
       "    </tr>\n",
       "    <tr>\n",
       "      <th>m7_mva_5</th>\n",
       "      <td>-1.640000</td>\n",
       "      <td>-1.640000</td>\n",
       "      <td>-1.640000</td>\n",
       "      <td>-1.640000</td>\n",
       "      <td>-1.640000</td>\n",
       "    </tr>\n",
       "  </tbody>\n",
       "</table>\n",
       "</div>"
      ],
      "text/plain": [
       "Date               2018-12-31   2018-12-28   2018-12-27   2018-12-26  \\\n",
       "m1_pct_change        0.001403     0.001403    -0.010096    -0.004762   \n",
       "m2_pct_change       -0.000273    -0.000273    -0.001985     0.004692   \n",
       "m3_pct_change        0.018982     0.018982     0.006774    -0.006308   \n",
       "m6_pct_change        0.005495     0.005495    -0.000607    -0.010936   \n",
       "m7_pct_change       -0.066667    -0.066667     0.928571     1.000000   \n",
       "m8_pct_change        0.019925     0.019925    -0.018315     0.043781   \n",
       "m7_pct_change_5      2.600000     2.600000     2.600000     2.600000   \n",
       "m8_pct_change_5      0.044832     0.044832     0.044832     0.044832   \n",
       "m7_pct_change_10    -8.000000    -8.000000    -8.000000    -8.000000   \n",
       "m8_pct_change_10    -0.012453    -0.012453    -0.012453    -0.012453   \n",
       "m7_pct_change_30   -27.400000   -27.400000   -27.400000   -27.400000   \n",
       "m8_pct_change_30     0.017435     0.017435     0.017435     0.017435   \n",
       "m1_mva_5          5527.465240  5527.465240  5527.465240  5527.465240   \n",
       "m7_mva_5            -1.640000    -1.640000    -1.640000    -1.640000   \n",
       "\n",
       "Date               2018-12-25  \n",
       "m1_pct_change       -0.004762  \n",
       "m2_pct_change       -0.004247  \n",
       "m3_pct_change        0.000000  \n",
       "m6_pct_change        0.017199  \n",
       "m7_pct_change        0.000000  \n",
       "m8_pct_change        0.000000  \n",
       "m7_pct_change_5      2.600000  \n",
       "m8_pct_change_5      0.044832  \n",
       "m7_pct_change_10    -8.000000  \n",
       "m8_pct_change_10    -0.012453  \n",
       "m7_pct_change_30   -27.400000  \n",
       "m8_pct_change_30     0.017435  \n",
       "m1_mva_5          5527.465240  \n",
       "m7_mva_5            -1.640000  "
      ]
     },
     "execution_count": 50,
     "metadata": {},
     "output_type": "execute_result"
    }
   ],
   "source": [
    "md_selected.head().T"
   ]
  },
  {
   "cell_type": "markdown",
   "metadata": {},
   "source": [
    "## Linear Regression"
   ]
  },
  {
   "cell_type": "code",
   "execution_count": 51,
   "metadata": {},
   "outputs": [],
   "source": [
    "from sklearn.linear_model import LinearRegression"
   ]
  },
  {
   "cell_type": "code",
   "execution_count": 52,
   "metadata": {},
   "outputs": [],
   "source": [
    "from sklearn.model_selection import cross_val_score\n",
    "from sklearn.model_selection import TimeSeriesSplit"
   ]
  },
  {
   "cell_type": "code",
   "execution_count": 53,
   "metadata": {},
   "outputs": [],
   "source": [
    "tscv = TimeSeriesSplit(n_splits=3)"
   ]
  },
  {
   "cell_type": "code",
   "execution_count": 54,
   "metadata": {},
   "outputs": [],
   "source": [
    "X=md_selected\n",
    "y=df[['target']].loc[md_selected.index,]"
   ]
  },
  {
   "cell_type": "code",
   "execution_count": 55,
   "metadata": {},
   "outputs": [
    {
     "name": "stdout",
     "output_type": "stream",
     "text": [
      "-0.3130314112239845\n"
     ]
    }
   ],
   "source": [
    "print(np.mean(cross_val_score(LinearRegression(), X, y, cv=tscv, scoring='neg_mean_squared_error')))"
   ]
  },
  {
   "cell_type": "markdown",
   "metadata": {},
   "source": [
    "## Elastic Net"
   ]
  },
  {
   "cell_type": "code",
   "execution_count": 76,
   "metadata": {},
   "outputs": [],
   "source": [
    "from sklearn.metrics import mean_squared_error\n",
    "\n",
    "def mse(y_actual, y_predicted):\n",
    "    return mean_squared_error(y_actual, y_predicted)"
   ]
  },
  {
   "cell_type": "code",
   "execution_count": 67,
   "metadata": {},
   "outputs": [],
   "source": [
    "from sklearn.linear_model import ElasticNet\n",
    "from sklearn.model_selection import train_test_split\n",
    "from sklearn.model_selection import GridSearchCV\n",
    "from sklearn.model_selection import RandomizedSearchCV"
   ]
  },
  {
   "cell_type": "code",
   "execution_count": 60,
   "metadata": {},
   "outputs": [],
   "source": [
    "X_train, X_test, y_train, y_test = train_test_split(X, y, test_size=0.3)"
   ]
  },
  {
   "cell_type": "code",
   "execution_count": 61,
   "metadata": {},
   "outputs": [],
   "source": [
    "alphas=np.linspace(-2, 2, 30)\n",
    "ratios=np.linspace(0, 1, 10)"
   ]
  },
  {
   "cell_type": "code",
   "execution_count": 62,
   "metadata": {},
   "outputs": [],
   "source": [
    "params=({'alpha':alphas,\n",
    "        'l1_ratio': ratios\n",
    "        })"
   ]
  },
  {
   "cell_type": "code",
   "execution_count": 68,
   "metadata": {},
   "outputs": [],
   "source": [
    "param_comb=10"
   ]
  },
  {
   "cell_type": "code",
   "execution_count": 69,
   "metadata": {},
   "outputs": [],
   "source": [
    "mdl=RandomizedSearchCV(ElasticNet(), params, cv=tscv,scoring='neg_mean_squared_error',n_iter=param_comb)"
   ]
  },
  {
   "cell_type": "code",
   "execution_count": 70,
   "metadata": {
    "scrolled": true
   },
   "outputs": [],
   "source": [
    "mdl.fit(X_train,y_train);"
   ]
  },
  {
   "cell_type": "code",
   "execution_count": 71,
   "metadata": {},
   "outputs": [],
   "source": [
    "pred_en=mdl.best_estimator_.predict(X_test)"
   ]
  },
  {
   "cell_type": "code",
   "execution_count": 77,
   "metadata": {},
   "outputs": [
    {
     "data": {
      "text/plain": [
       "0.013928624883486658"
      ]
     },
     "execution_count": 77,
     "metadata": {},
     "output_type": "execute_result"
    }
   ],
   "source": [
    "mse(y_test,pred_en)"
   ]
  },
  {
   "cell_type": "markdown",
   "metadata": {},
   "source": [
    "## Gradient Boosting"
   ]
  },
  {
   "cell_type": "code",
   "execution_count": 79,
   "metadata": {},
   "outputs": [],
   "source": [
    "import xgboost as xgb\n",
    "from xgboost import plot_importance"
   ]
  },
  {
   "cell_type": "code",
   "execution_count": 80,
   "metadata": {},
   "outputs": [],
   "source": [
    "n_estimators=range(100,1100,100)\n",
    "learning_rates=np.linspace(0,1,10)\n",
    "depth=range(2,10)\n",
    "\n",
    "param_comb=10\n",
    "# estimating only 10 combinations"
   ]
  },
  {
   "cell_type": "code",
   "execution_count": 81,
   "metadata": {},
   "outputs": [],
   "source": [
    "params=({'learning_rate':learning_rates,\n",
    "        'max_depth': depth,\n",
    "         'n_estimators':n_estimators\n",
    "        })"
   ]
  },
  {
   "cell_type": "code",
   "execution_count": 82,
   "metadata": {},
   "outputs": [],
   "source": [
    "xgb=xgb.XGBRegressor()"
   ]
  },
  {
   "cell_type": "code",
   "execution_count": 83,
   "metadata": {},
   "outputs": [],
   "source": [
    "random_search=RandomizedSearchCV(xgb, params,n_iter=param_comb, \n",
    "                                 scoring='neg_mean_squared_error',cv=tscv)"
   ]
  },
  {
   "cell_type": "code",
   "execution_count": 84,
   "metadata": {},
   "outputs": [
    {
     "data": {
      "text/plain": [
       "RandomizedSearchCV(cv=TimeSeriesSplit(max_train_size=None, n_splits=3),\n",
       "          error_score='raise-deprecating',\n",
       "          estimator=XGBRegressor(base_score=0.5, booster='gbtree', colsample_bylevel=1,\n",
       "       colsample_bytree=1, gamma=0, learning_rate=0.1, max_delta_step=0,\n",
       "       max_depth=3, min_child_weight=1, missing=None, n_estimators=100,\n",
       "       n_jobs=1, nthread=None, objective='reg:linear', random_state=0,\n",
       "       reg_alpha=0, reg_lambda=1, scale_pos_weight=1, seed=None,\n",
       "       silent=True, subsample=1),\n",
       "          fit_params=None, iid='warn', n_iter=10, n_jobs=None,\n",
       "          param_distributions={'learning_rate': array([0.     , 0.11111, 0.22222, 0.33333, 0.44444, 0.55556, 0.66667,\n",
       "       0.77778, 0.88889, 1.     ]), 'max_depth': range(2, 10), 'n_estimators': range(100, 1100, 100)},\n",
       "          pre_dispatch='2*n_jobs', random_state=None, refit=True,\n",
       "          return_train_score='warn', scoring='neg_mean_squared_error',\n",
       "          verbose=0)"
      ]
     },
     "execution_count": 84,
     "metadata": {},
     "output_type": "execute_result"
    }
   ],
   "source": [
    "random_search.fit(X_train,y_train)"
   ]
  },
  {
   "cell_type": "code",
   "execution_count": 85,
   "metadata": {},
   "outputs": [
    {
     "name": "stdout",
     "output_type": "stream",
     "text": [
      "Best score \n",
      " -0.002021631338862314 \n",
      " \n",
      " Best parameters \n",
      " {'n_estimators': 200, 'max_depth': 8, 'learning_rate': 0.2222222222222222} \n",
      " \n",
      " Best estimator \n",
      " XGBRegressor(base_score=0.5, booster='gbtree', colsample_bylevel=1,\n",
      "       colsample_bytree=1, gamma=0, learning_rate=0.2222222222222222,\n",
      "       max_delta_step=0, max_depth=8, min_child_weight=1, missing=None,\n",
      "       n_estimators=200, n_jobs=1, nthread=None, objective='reg:linear',\n",
      "       random_state=0, reg_alpha=0, reg_lambda=1, scale_pos_weight=1,\n",
      "       seed=None, silent=True, subsample=1)\n"
     ]
    }
   ],
   "source": [
    "print('Best score \\n', random_search.best_score_,\n",
    "      '\\n \\n Best parameters \\n', random_search.best_params_,\n",
    "      '\\n \\n Best estimator \\n', random_search.best_estimator_)"
   ]
  },
  {
   "cell_type": "code",
   "execution_count": 86,
   "metadata": {},
   "outputs": [
    {
     "data": {
      "text/plain": [
       "0.0012445674845329598"
      ]
     },
     "execution_count": 86,
     "metadata": {},
     "output_type": "execute_result"
    }
   ],
   "source": [
    "mse(y_test,random_search.best_estimator_.predict(X_test))"
   ]
  },
  {
   "cell_type": "code",
   "execution_count": null,
   "metadata": {},
   "outputs": [],
   "source": [
    "# feature importance plot as well"
   ]
  },
  {
   "cell_type": "markdown",
   "metadata": {},
   "source": [
    "## Random Forest"
   ]
  },
  {
   "cell_type": "code",
   "execution_count": 89,
   "metadata": {},
   "outputs": [],
   "source": [
    "from sklearn.ensemble import RandomForestRegressor"
   ]
  },
  {
   "cell_type": "code",
   "execution_count": 87,
   "metadata": {},
   "outputs": [
    {
     "name": "stdout",
     "output_type": "stream",
     "text": [
      "{'n_estimators': [200, 400, 600, 800, 1000, 1200, 1400, 1600, 1800, 2000], 'max_features': ['auto', 'sqrt'], 'max_depth': [10, 20, 30, 40, 50, 60, 70, 80, 90, 100, 110, None], 'min_samples_split': [2, 5, 10], 'min_samples_leaf': [1, 2, 4], 'bootstrap': [True, False]}\n"
     ]
    },
    {
     "data": {
      "text/plain": [
       "{'bootstrap': [True, False],\n",
       " 'max_depth': [10, 20, 30, 40, 50, 60, 70, 80, 90, 100, None],\n",
       " 'max_features': ['auto', 'sqrt'],\n",
       " 'min_samples_leaf': [1, 2, 4],\n",
       " 'min_samples_split': [2, 5, 10],\n",
       " 'n_estimators': [200, 400, 600, 800, 1000, 1200, 1400, 1600, 1800, 2000]}"
      ]
     },
     "execution_count": 87,
     "metadata": {},
     "output_type": "execute_result"
    }
   ],
   "source": [
    "# Number of trees in random forest\n",
    "n_estimators = [int(x) for x in np.linspace(100,1000, num = 10)]\n",
    "\n",
    "# Maximum number of levels in tree\n",
    "max_depth = [int(x) for x in np.linspace(10, 110, num = 11)]\n",
    "max_depth.append(None)\n",
    "\n",
    "# Minimum number of samples required to split a node\n",
    "min_samples_split = [2, 5, 10]\n",
    "\n",
    "# Minimum number of samples required at each leaf node\n",
    "min_samples_leaf = [1, 2, 4]\n",
    "\n",
    "# Create the random grid\n",
    "random_grid = {'n_estimators': n_estimators,\n",
    "               'max_depth': max_depth,\n",
    "               'min_samples_split': min_samples_split,\n",
    "               'min_samples_leaf': min_samples_leaf\n",
    "              }\n",
    "\n",
    "print(random_grid)\n",
    "{'max_depth': [10, 20, 30, 40, 50, 60, 70, 80, 90, 100, None],\n",
    " 'min_samples_leaf': [1, 2, 4],\n",
    " 'min_samples_split': [2, 5, 10],\n",
    " 'n_estimators': [200, 400, 600, 800, 1000]}"
   ]
  },
  {
   "cell_type": "code",
   "execution_count": 88,
   "metadata": {},
   "outputs": [],
   "source": [
    "param_comb=10"
   ]
  },
  {
   "cell_type": "code",
   "execution_count": 90,
   "metadata": {},
   "outputs": [],
   "source": [
    "random_search=RandomizedSearchCV(RandomForestRegressor(), random_grid,n_iter=param_comb, \n",
    "                                 scoring='neg_mean_squared_error',cv=tscv)"
   ]
  },
  {
   "cell_type": "code",
   "execution_count": 91,
   "metadata": {
    "scrolled": true
   },
   "outputs": [
    {
     "name": "stderr",
     "output_type": "stream",
     "text": [
      "C:\\Users\\MO_Reuters_2\\AppData\\Local\\Continuum\\anaconda3\\lib\\site-packages\\sklearn\\model_selection\\_validation.py:528: DataConversionWarning: A column-vector y was passed when a 1d array was expected. Please change the shape of y to (n_samples,), for example using ravel().\n",
      "  estimator.fit(X_train, y_train, **fit_params)\n",
      "C:\\Users\\MO_Reuters_2\\AppData\\Local\\Continuum\\anaconda3\\lib\\site-packages\\sklearn\\model_selection\\_validation.py:528: DataConversionWarning: A column-vector y was passed when a 1d array was expected. Please change the shape of y to (n_samples,), for example using ravel().\n",
      "  estimator.fit(X_train, y_train, **fit_params)\n",
      "C:\\Users\\MO_Reuters_2\\AppData\\Local\\Continuum\\anaconda3\\lib\\site-packages\\sklearn\\model_selection\\_validation.py:528: DataConversionWarning: A column-vector y was passed when a 1d array was expected. Please change the shape of y to (n_samples,), for example using ravel().\n",
      "  estimator.fit(X_train, y_train, **fit_params)\n",
      "C:\\Users\\MO_Reuters_2\\AppData\\Local\\Continuum\\anaconda3\\lib\\site-packages\\sklearn\\model_selection\\_validation.py:528: DataConversionWarning: A column-vector y was passed when a 1d array was expected. Please change the shape of y to (n_samples,), for example using ravel().\n",
      "  estimator.fit(X_train, y_train, **fit_params)\n",
      "C:\\Users\\MO_Reuters_2\\AppData\\Local\\Continuum\\anaconda3\\lib\\site-packages\\sklearn\\model_selection\\_validation.py:528: DataConversionWarning: A column-vector y was passed when a 1d array was expected. Please change the shape of y to (n_samples,), for example using ravel().\n",
      "  estimator.fit(X_train, y_train, **fit_params)\n",
      "C:\\Users\\MO_Reuters_2\\AppData\\Local\\Continuum\\anaconda3\\lib\\site-packages\\sklearn\\model_selection\\_validation.py:528: DataConversionWarning: A column-vector y was passed when a 1d array was expected. Please change the shape of y to (n_samples,), for example using ravel().\n",
      "  estimator.fit(X_train, y_train, **fit_params)\n",
      "C:\\Users\\MO_Reuters_2\\AppData\\Local\\Continuum\\anaconda3\\lib\\site-packages\\sklearn\\model_selection\\_validation.py:528: DataConversionWarning: A column-vector y was passed when a 1d array was expected. Please change the shape of y to (n_samples,), for example using ravel().\n",
      "  estimator.fit(X_train, y_train, **fit_params)\n",
      "C:\\Users\\MO_Reuters_2\\AppData\\Local\\Continuum\\anaconda3\\lib\\site-packages\\sklearn\\model_selection\\_validation.py:528: DataConversionWarning: A column-vector y was passed when a 1d array was expected. Please change the shape of y to (n_samples,), for example using ravel().\n",
      "  estimator.fit(X_train, y_train, **fit_params)\n",
      "C:\\Users\\MO_Reuters_2\\AppData\\Local\\Continuum\\anaconda3\\lib\\site-packages\\sklearn\\model_selection\\_validation.py:528: DataConversionWarning: A column-vector y was passed when a 1d array was expected. Please change the shape of y to (n_samples,), for example using ravel().\n",
      "  estimator.fit(X_train, y_train, **fit_params)\n",
      "C:\\Users\\MO_Reuters_2\\AppData\\Local\\Continuum\\anaconda3\\lib\\site-packages\\sklearn\\model_selection\\_validation.py:528: DataConversionWarning: A column-vector y was passed when a 1d array was expected. Please change the shape of y to (n_samples,), for example using ravel().\n",
      "  estimator.fit(X_train, y_train, **fit_params)\n",
      "C:\\Users\\MO_Reuters_2\\AppData\\Local\\Continuum\\anaconda3\\lib\\site-packages\\sklearn\\model_selection\\_validation.py:528: DataConversionWarning: A column-vector y was passed when a 1d array was expected. Please change the shape of y to (n_samples,), for example using ravel().\n",
      "  estimator.fit(X_train, y_train, **fit_params)\n",
      "C:\\Users\\MO_Reuters_2\\AppData\\Local\\Continuum\\anaconda3\\lib\\site-packages\\sklearn\\model_selection\\_validation.py:528: DataConversionWarning: A column-vector y was passed when a 1d array was expected. Please change the shape of y to (n_samples,), for example using ravel().\n",
      "  estimator.fit(X_train, y_train, **fit_params)\n",
      "C:\\Users\\MO_Reuters_2\\AppData\\Local\\Continuum\\anaconda3\\lib\\site-packages\\sklearn\\model_selection\\_validation.py:528: DataConversionWarning: A column-vector y was passed when a 1d array was expected. Please change the shape of y to (n_samples,), for example using ravel().\n",
      "  estimator.fit(X_train, y_train, **fit_params)\n",
      "C:\\Users\\MO_Reuters_2\\AppData\\Local\\Continuum\\anaconda3\\lib\\site-packages\\sklearn\\model_selection\\_validation.py:528: DataConversionWarning: A column-vector y was passed when a 1d array was expected. Please change the shape of y to (n_samples,), for example using ravel().\n",
      "  estimator.fit(X_train, y_train, **fit_params)\n",
      "C:\\Users\\MO_Reuters_2\\AppData\\Local\\Continuum\\anaconda3\\lib\\site-packages\\sklearn\\model_selection\\_validation.py:528: DataConversionWarning: A column-vector y was passed when a 1d array was expected. Please change the shape of y to (n_samples,), for example using ravel().\n",
      "  estimator.fit(X_train, y_train, **fit_params)\n",
      "C:\\Users\\MO_Reuters_2\\AppData\\Local\\Continuum\\anaconda3\\lib\\site-packages\\sklearn\\model_selection\\_validation.py:528: DataConversionWarning: A column-vector y was passed when a 1d array was expected. Please change the shape of y to (n_samples,), for example using ravel().\n",
      "  estimator.fit(X_train, y_train, **fit_params)\n",
      "C:\\Users\\MO_Reuters_2\\AppData\\Local\\Continuum\\anaconda3\\lib\\site-packages\\sklearn\\model_selection\\_validation.py:528: DataConversionWarning: A column-vector y was passed when a 1d array was expected. Please change the shape of y to (n_samples,), for example using ravel().\n",
      "  estimator.fit(X_train, y_train, **fit_params)\n",
      "C:\\Users\\MO_Reuters_2\\AppData\\Local\\Continuum\\anaconda3\\lib\\site-packages\\sklearn\\model_selection\\_validation.py:528: DataConversionWarning: A column-vector y was passed when a 1d array was expected. Please change the shape of y to (n_samples,), for example using ravel().\n",
      "  estimator.fit(X_train, y_train, **fit_params)\n",
      "C:\\Users\\MO_Reuters_2\\AppData\\Local\\Continuum\\anaconda3\\lib\\site-packages\\sklearn\\model_selection\\_validation.py:528: DataConversionWarning: A column-vector y was passed when a 1d array was expected. Please change the shape of y to (n_samples,), for example using ravel().\n",
      "  estimator.fit(X_train, y_train, **fit_params)\n",
      "C:\\Users\\MO_Reuters_2\\AppData\\Local\\Continuum\\anaconda3\\lib\\site-packages\\sklearn\\model_selection\\_validation.py:528: DataConversionWarning: A column-vector y was passed when a 1d array was expected. Please change the shape of y to (n_samples,), for example using ravel().\n",
      "  estimator.fit(X_train, y_train, **fit_params)\n",
      "C:\\Users\\MO_Reuters_2\\AppData\\Local\\Continuum\\anaconda3\\lib\\site-packages\\sklearn\\model_selection\\_validation.py:528: DataConversionWarning: A column-vector y was passed when a 1d array was expected. Please change the shape of y to (n_samples,), for example using ravel().\n",
      "  estimator.fit(X_train, y_train, **fit_params)\n",
      "C:\\Users\\MO_Reuters_2\\AppData\\Local\\Continuum\\anaconda3\\lib\\site-packages\\sklearn\\model_selection\\_validation.py:528: DataConversionWarning: A column-vector y was passed when a 1d array was expected. Please change the shape of y to (n_samples,), for example using ravel().\n",
      "  estimator.fit(X_train, y_train, **fit_params)\n",
      "C:\\Users\\MO_Reuters_2\\AppData\\Local\\Continuum\\anaconda3\\lib\\site-packages\\sklearn\\model_selection\\_validation.py:528: DataConversionWarning: A column-vector y was passed when a 1d array was expected. Please change the shape of y to (n_samples,), for example using ravel().\n",
      "  estimator.fit(X_train, y_train, **fit_params)\n",
      "C:\\Users\\MO_Reuters_2\\AppData\\Local\\Continuum\\anaconda3\\lib\\site-packages\\sklearn\\model_selection\\_validation.py:528: DataConversionWarning: A column-vector y was passed when a 1d array was expected. Please change the shape of y to (n_samples,), for example using ravel().\n",
      "  estimator.fit(X_train, y_train, **fit_params)\n",
      "C:\\Users\\MO_Reuters_2\\AppData\\Local\\Continuum\\anaconda3\\lib\\site-packages\\sklearn\\model_selection\\_validation.py:528: DataConversionWarning: A column-vector y was passed when a 1d array was expected. Please change the shape of y to (n_samples,), for example using ravel().\n",
      "  estimator.fit(X_train, y_train, **fit_params)\n",
      "C:\\Users\\MO_Reuters_2\\AppData\\Local\\Continuum\\anaconda3\\lib\\site-packages\\sklearn\\model_selection\\_validation.py:528: DataConversionWarning: A column-vector y was passed when a 1d array was expected. Please change the shape of y to (n_samples,), for example using ravel().\n",
      "  estimator.fit(X_train, y_train, **fit_params)\n"
     ]
    },
    {
     "name": "stderr",
     "output_type": "stream",
     "text": [
      "C:\\Users\\MO_Reuters_2\\AppData\\Local\\Continuum\\anaconda3\\lib\\site-packages\\sklearn\\model_selection\\_validation.py:528: DataConversionWarning: A column-vector y was passed when a 1d array was expected. Please change the shape of y to (n_samples,), for example using ravel().\n",
      "  estimator.fit(X_train, y_train, **fit_params)\n",
      "C:\\Users\\MO_Reuters_2\\AppData\\Local\\Continuum\\anaconda3\\lib\\site-packages\\sklearn\\model_selection\\_validation.py:528: DataConversionWarning: A column-vector y was passed when a 1d array was expected. Please change the shape of y to (n_samples,), for example using ravel().\n",
      "  estimator.fit(X_train, y_train, **fit_params)\n",
      "C:\\Users\\MO_Reuters_2\\AppData\\Local\\Continuum\\anaconda3\\lib\\site-packages\\sklearn\\model_selection\\_validation.py:528: DataConversionWarning: A column-vector y was passed when a 1d array was expected. Please change the shape of y to (n_samples,), for example using ravel().\n",
      "  estimator.fit(X_train, y_train, **fit_params)\n",
      "C:\\Users\\MO_Reuters_2\\AppData\\Local\\Continuum\\anaconda3\\lib\\site-packages\\sklearn\\model_selection\\_validation.py:528: DataConversionWarning: A column-vector y was passed when a 1d array was expected. Please change the shape of y to (n_samples,), for example using ravel().\n",
      "  estimator.fit(X_train, y_train, **fit_params)\n",
      "C:\\Users\\MO_Reuters_2\\AppData\\Local\\Continuum\\anaconda3\\lib\\site-packages\\sklearn\\model_selection\\_search.py:740: DataConversionWarning: A column-vector y was passed when a 1d array was expected. Please change the shape of y to (n_samples,), for example using ravel().\n",
      "  self.best_estimator_.fit(X, y, **fit_params)\n"
     ]
    },
    {
     "data": {
      "text/plain": [
       "RandomizedSearchCV(cv=TimeSeriesSplit(max_train_size=None, n_splits=3),\n",
       "          error_score='raise-deprecating',\n",
       "          estimator=RandomForestRegressor(bootstrap=True, criterion='mse', max_depth=None,\n",
       "           max_features='auto', max_leaf_nodes=None,\n",
       "           min_impurity_decrease=0.0, min_impurity_split=None,\n",
       "           min_samples_leaf=1, min_samples_split=2,\n",
       "           min_weight_fraction_leaf=0.0, n_estimators='warn', n_jobs=None,\n",
       "           oob_score=False, random_state=None, verbose=0, warm_start=False),\n",
       "          fit_params=None, iid='warn', n_iter=10, n_jobs=None,\n",
       "          param_distributions={'n_estimators': [200, 400, 600, 800, 1000, 1200, 1400, 1600, 1800, 2000], 'max_features': ['auto', 'sqrt'], 'max_depth': [10, 20, 30, 40, 50, 60, 70, 80, 90, 100, 110, None], 'min_samples_split': [2, 5, 10], 'min_samples_leaf': [1, 2, 4], 'bootstrap': [True, False]},\n",
       "          pre_dispatch='2*n_jobs', random_state=None, refit=True,\n",
       "          return_train_score='warn', scoring='neg_mean_squared_error',\n",
       "          verbose=0)"
      ]
     },
     "execution_count": 91,
     "metadata": {},
     "output_type": "execute_result"
    }
   ],
   "source": [
    "random_search.fit(X_train,y_train);"
   ]
  },
  {
   "cell_type": "code",
   "execution_count": 94,
   "metadata": {},
   "outputs": [
    {
     "name": "stdout",
     "output_type": "stream",
     "text": [
      "Best score \n",
      " -0.0019300669486908366 \n",
      " \n",
      " Best parameters \n",
      " {'n_estimators': 400, 'min_samples_split': 10, 'min_samples_leaf': 2, 'max_features': 'auto', 'max_depth': 20, 'bootstrap': True} \n",
      " \n",
      " Best estimator \n",
      " RandomForestRegressor(bootstrap=True, criterion='mse', max_depth=20,\n",
      "           max_features='auto', max_leaf_nodes=None,\n",
      "           min_impurity_decrease=0.0, min_impurity_split=None,\n",
      "           min_samples_leaf=2, min_samples_split=10,\n",
      "           min_weight_fraction_leaf=0.0, n_estimators=400, n_jobs=None,\n",
      "           oob_score=False, random_state=None, verbose=0, warm_start=False)\n"
     ]
    }
   ],
   "source": [
    "print('Best score \\n', random_search.best_score_,\n",
    "      '\\n \\n Best parameters \\n', random_search.best_params_,\n",
    "      '\\n \\n Best estimator \\n', random_search.best_estimator_)"
   ]
  },
  {
   "cell_type": "code",
   "execution_count": 95,
   "metadata": {},
   "outputs": [
    {
     "data": {
      "text/plain": [
       "0.0011710850303743561"
      ]
     },
     "execution_count": 95,
     "metadata": {},
     "output_type": "execute_result"
    }
   ],
   "source": [
    "mse(y_test,random_search.best_estimator_.predict(X_test))"
   ]
  }
 ],
 "metadata": {
  "kernelspec": {
   "display_name": "Python 3",
   "language": "python",
   "name": "python3"
  },
  "language_info": {
   "codemirror_mode": {
    "name": "ipython",
    "version": 3
   },
   "file_extension": ".py",
   "mimetype": "text/x-python",
   "name": "python",
   "nbconvert_exporter": "python",
   "pygments_lexer": "ipython3",
   "version": "3.7.1"
  }
 },
 "nbformat": 4,
 "nbformat_minor": 2
}
